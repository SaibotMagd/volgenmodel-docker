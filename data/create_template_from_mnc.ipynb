{
 "cells": [
  {
   "cell_type": "markdown",
   "id": "3ac766e6-7ae2-43dc-8f60-91d1e44a901f",
   "metadata": {},
   "source": [
    "## Step1: initialization, import necessary packages\n",
    "- files are mounted from local file system \"volgenmodel-docker/data\" into the docker container path \"/home/data\" (see \"docker-compose.yml\")"
   ]
  },
  {
   "cell_type": "code",
   "execution_count": 1,
   "id": "e30041f6-b665-4725-8a9b-4bfd8610b5c7",
   "metadata": {},
   "outputs": [
    {
     "name": "stdout",
     "output_type": "stream",
     "text": [
      "I'm working in folder: /volgenmodel-nipype\n"
     ]
    }
   ],
   "source": [
    "import os\n",
    "import sys\n",
    "sys.path.append('/home/data')\n",
    "from os.path import join\n",
    "from functions import *\n",
    "import tifffile\n",
    "import SimpleITK as sitk\n",
    "import numpy as np\n",
    "import tifffile\n",
    "import nibabel as nib\n",
    "import numpy as np\n",
    "\n",
    "os.getcwd()\n",
    "os.chdir(\"/volgenmodel-nipype\")\n",
    "print(f\"I'm working in folder: {os.getcwd()}\")\n",
    "\n",
    "## folder initialization\n",
    "input_folder   = '/home/data/masked_brains'\n",
    "output_folder  = '/home/data/output_templates'\n",
    "process_folder = '/home/data/converted_brains'\n",
    "tmp_folder     = '/home/data/tmp'\n",
    "result_folder  = '/volgenmodel-nipype'\n",
    "\n",
    "## parameter init\n",
    "parameters={'fit_stages': 'lin,1,2', ## for testing 'lin,1,2' for best quality use larger numbers like 'lin,1,1,2,2,3,3,4,5,6' from https://doi.org/10.1016/j.ymeth.2015.01.005\n",
    "            'ncpus': 8, ## how many cores should the template creation use? be careful, don't use to many or the system could crash\n",
    "            'img_thresholds': len(fileList(input_folder))*[10], ## the threshold value should be the smallest grey value that is located at one of the edges of the image. \n",
    "            'padding_size': 25 ## Padding-Size should be ~10% of the largest dimension (88x150x249 -> paddingSize = 25)\n",
    "                  }"
   ]
  },
  {
   "cell_type": "markdown",
   "id": "4d6f861f-c905-4789-986c-3c39346d772c",
   "metadata": {},
   "source": [
    "## Step2: N4 (identical to N3) bias field correction \n",
    "- https://simpleitk.readthedocs.io/en/master/link_N4BiasFieldCorrection_docs.html\n"
   ]
  },
  {
   "cell_type": "code",
   "execution_count": 2,
   "id": "84a981fb-d785-4beb-86c0-afb88bd74cf6",
   "metadata": {},
   "outputs": [
    {
     "name": "stdout",
     "output_type": "stream",
     "text": [
      "N4 bias correction runs.\n",
      "Finished N4 Bias Field Correction.....\n",
      "N4 bias correction runs.\n",
      "Finished N4 Bias Field Correction.....\n",
      "N4 bias correction runs.\n",
      "Finished N4 Bias Field Correction.....\n",
      "N4 bias correction runs.\n",
      "Finished N4 Bias Field Correction.....\n"
     ]
    }
   ],
   "source": [
    "files = fileList(input_folder)\n",
    "files = [join(input_folder,file) for file in files]\n",
    "out_path = input_folder\n",
    "\n",
    "for mri_file in files:\n",
    "    create_N4_img(mri_file, mri_file.split(\"/\")[-1] + '_N4.nii')"
   ]
  },
  {
   "cell_type": "markdown",
   "id": "160263cd-227f-4ecb-ad8b-7a9c8512dfd6",
   "metadata": {},
   "source": [
    "## Step 3: cropping based on defined threshold or auto-cropping (if available)\n",
    "- to find a proper threshold load the image into imageJ and find the lowest grey-value on the border of the tissue (the croping will be done in a cubic shape from the outside)\n",
    "- you can try to let the function find the threshold by themself by setting: \"thresholds='auto'\" (TODO: test the auto threshold function!)"
   ]
  },
  {
   "cell_type": "code",
   "execution_count": 4,
   "id": "a0c11351-2618-43f2-b827-1a81628d32a4",
   "metadata": {},
   "outputs": [
    {
     "name": "stdout",
     "output_type": "stream",
     "text": [
      "Processing image: 0120139_T1_stripped_N4_32bit.nii\n",
      "Initial Dims: (250, 250, 120, 1)\n",
      "Initial bestBorders: [124, 126, 59, 61]\n",
      "Final bestBorders: [16, 235, 13, 102]\n",
      "Number of slices after: 150\n",
      "Final Dims: (150, 220, 90)\n",
      "I saved to /home/data/masked_brains/0120139_T1_stripped_N4_32bit_auto-crop.nii\n",
      "Processing image: 072949_T1_stripped_N4_32bit.nii\n",
      "Initial Dims: (250, 250, 120, 1)\n",
      "Initial bestBorders: [124, 126, 59, 61]\n",
      "Final bestBorders: [16, 247, 9, 89]\n",
      "Number of slices after: 148\n",
      "Final Dims: (148, 232, 81)\n",
      "I saved to /home/data/masked_brains/072949_T1_stripped_N4_32bit_auto-crop.nii\n"
     ]
    },
    {
     "data": {
      "text/plain": [
       "0"
      ]
     },
     "execution_count": 4,
     "metadata": {},
     "output_type": "execute_result"
    }
   ],
   "source": [
    "\"\"\"\n",
    "create_cropped_imgs(input_folder, \n",
    "                   input_folder, \n",
    "                   thresholds='auto', \n",
    "                   save_as_dtype=np.int16)\n",
    "\"\"\"\n",
    "create_cropped_imgs(input_folder, \n",
    "                   input_folder, \n",
    "                   thresholds=parameters['img_thresholds'], \n",
    "                   save_as_dtype=np.int16)\n"
   ]
  },
  {
   "cell_type": "markdown",
   "id": "7733f646-1943-449d-be66-407c0ffed702",
   "metadata": {},
   "source": [
    "## Step 4: Zero-Padding\n",
    "- Padding-Size should be ~10% of the largest dimension (88x150x249 -> paddingSize = 25)"
   ]
  },
  {
   "cell_type": "code",
   "execution_count": 5,
   "id": "7716179c-33c2-4fff-961a-b0d18f5244bb",
   "metadata": {},
   "outputs": [
    {
     "name": "stdout",
     "output_type": "stream",
     "text": [
      "0120139_T1_stripped_N4_32bit.nii\n",
      "I padded file: 0120139_T1_stripped_N4_32bit.nii size of 26 in all 3D!\n",
      "0120139_T1_stripped_N4_32bit_auto-crop.nii\n",
      "I padded file: 0120139_T1_stripped_N4_32bit_auto-crop.nii size of 23 in all 3D!\n",
      "072949_T1_stripped_N4_32bit.nii\n",
      "I padded file: 072949_T1_stripped_N4_32bit.nii size of 26 in all 3D!\n",
      "072949_T1_stripped_N4_32bit_auto-crop.nii\n",
      "I padded file: 072949_T1_stripped_N4_32bit_auto-crop.nii size of 24 in all 3D!\n"
     ]
    }
   ],
   "source": [
    "create_padding_imgs(input_folder, init_paddingSize=parameters['img_thresholds'])\n",
    "#create_padding_imgs(input_folder, init_paddingSize='10%')"
   ]
  },
  {
   "cell_type": "markdown",
   "id": "2a6d15ef-232c-419b-95ed-86ffe11712a8",
   "metadata": {},
   "source": [
    "## Step 5: Nifti to Minc convert\n",
    "- it also delete possible unused mnc files in the processed folder to prevent issues"
   ]
  },
  {
   "cell_type": "code",
   "execution_count": 6,
   "id": "794789aa-ddea-48bb-b505-cec971b9754f",
   "metadata": {
    "scrolled": true
   },
   "outputs": [
    {
     "name": "stdout",
     "output_type": "stream",
     "text": [
      "nii2mnc -unsigned -float -clobber /home/data/converted_brains/mouse0 /home/data/converted_brains/mouse0.mnc\n",
      "Using s-form transform:\n",
      "  1.0000,   0.0000,   0.0000,   0.0000, \n",
      "  0.0000,   1.0000,   0.0000,   0.0000, \n",
      "  0.0000,   0.0000,   1.0000,   0.0000, \n",
      "  0.0000,   0.0000,   0.0000,   1.0000, \n",
      "\n",
      "name   | start      | step    | cosines\n",
      "zspace |     0.0000 |  1.0000 |  0.0000  0.0000  1.0000\n",
      "yspace |     0.0000 |  1.0000 |  0.0000  1.0000  0.0000\n",
      "xspace |     0.0000 |  1.0000 |  1.0000  0.0000  0.0000\n",
      "Performing voxel format conversion.\n",
      "nii2mnc -unsigned -float -clobber /home/data/converted_brains/mouse1 /home/data/converted_brains/mouse1.mnc\n"
     ]
    },
    {
     "name": "stderr",
     "output_type": "stream",
     "text": [
      "<nifti_image\n",
      "  nifti_type = 'NIFTI-1+'\n",
      "  header_filename = '/home/data/converted_brains/mouse0.nii'\n",
      "  image_filename = '/home/data/converted_brains/mouse0.nii'\n",
      "  image_offset = '352'\n",
      "  ndim = '3'\n",
      "  nx = '196'\n",
      "  ny = '266'\n",
      "  nz = '136'\n",
      "  dx = '1'\n",
      "  dy = '1'\n",
      "  dz = '1'\n",
      "  datatype = '16'\n",
      "  datatype_name = 'FLOAT32'\n",
      "  nvox = '7090496'\n",
      "  nbyper = '4'\n",
      "  byteorder = 'LSB_FIRST'\n",
      "  scl_slope = '1'\n",
      "  scl_inter = '0'\n",
      "  sform_code = '1'\n",
      "  sform_code_name = 'Scanner Anat'\n",
      "  sto_xyz_matrix = '1 0 0 0 0 1 0 0 0 0 1 0 0 0 0 1'\n",
      "  sto_ijk matrix = '1 0 0 0 0 1 0 0 0 0 1 0 0 0 0 1'\n",
      "  sform_i_orientation = 'Left-to-Right'\n",
      "  sform_j_orientation = 'Posterior-to-Anterior'\n",
      "  sform_k_orientation = 'Inferior-to-Superior'\n",
      "  num_ext = '0'\n",
      "/>\n",
      "<nifti_image\n",
      "  nifti_type = 'NIFTI-1+'\n",
      "  header_filename = '/home/data/converted_brains/mouse1.nii'\n",
      "  image_filename = '/home/data/converted_brains/mouse1.nii'\n",
      "  image_offset = '352'\n",
      "  ndim = '3'\n",
      "  nx = '196'\n",
      "  ny = '280'\n",
      "  nz = '129'\n",
      "  dx = '1'\n",
      "  dy = '1'\n",
      "  dz = '1'\n",
      "  datatype = '16'\n",
      "  datatype_name = 'FLOAT32'\n",
      "  nvox = '7079520'\n",
      "  nbyper = '4'\n",
      "  byteorder = 'LSB_FIRST'\n",
      "  scl_slope = '1'\n",
      "  scl_inter = '0'\n",
      "  sform_code = '1'\n",
      "  sform_code_name = 'Scanner Anat'\n",
      "  sto_xyz_matrix = '1 0 0 0 0 1 0 0 0 0 1 0 0 0 0 1'\n",
      "  sto_ijk matrix = '1 0 0 0 0 1 0 0 0 0 1 0 0 0 0 1'\n",
      "  sform_i_orientation = 'Left-to-Right'\n",
      "  sform_j_orientation = 'Posterior-to-Anterior'\n",
      "  sform_k_orientation = 'Inferior-to-Superior'\n",
      "  num_ext = '0'\n",
      "/>\n"
     ]
    },
    {
     "name": "stdout",
     "output_type": "stream",
     "text": [
      "Using s-form transform:\n",
      "  1.0000,   0.0000,   0.0000,   0.0000, \n",
      "  0.0000,   1.0000,   0.0000,   0.0000, \n",
      "  0.0000,   0.0000,   1.0000,   0.0000, \n",
      "  0.0000,   0.0000,   0.0000,   1.0000, \n",
      "\n",
      "name   | start      | step    | cosines\n",
      "zspace |     0.0000 |  1.0000 |  0.0000  0.0000  1.0000\n",
      "yspace |     0.0000 |  1.0000 |  0.0000  1.0000  0.0000\n",
      "xspace |     0.0000 |  1.0000 |  1.0000  0.0000  0.0000\n",
      "Performing voxel format conversion.\n"
     ]
    },
    {
     "name": "stderr",
     "output_type": "stream",
     "text": [
      "Copying chunks:........................................................................................................................................Done.\n",
      "Copying chunks:."
     ]
    },
    {
     "name": "stdout",
     "output_type": "stream",
     "text": [
      "mouse0.mnc -> reworked_mouse_mouse0.mnc\n"
     ]
    },
    {
     "name": "stderr",
     "output_type": "stream",
     "text": [
      ".............................................................................................................................."
     ]
    },
    {
     "name": "stdout",
     "output_type": "stream",
     "text": [
      "mouse1.mnc -> reworked_mouse_mouse1.mnc\n"
     ]
    },
    {
     "name": "stderr",
     "output_type": "stream",
     "text": [
      "..Done.\n"
     ]
    }
   ],
   "source": [
    "nii_to_minc(input_folder, process_folder)\n",
    "delete_files(process_folder, 'mnc') ## delete unused .nii files in processed folder"
   ]
  },
  {
   "cell_type": "markdown",
   "id": "9a43143e-8106-47f5-a408-b2c2fd9982f5",
   "metadata": {},
   "source": [
    "## Step 6: Create the Templates\n",
    "- set up the create_parameters if necessary\n",
    "- use only a small version of the fit_stages (lin,1,2) to prevent exessive calculation time\n",
    "- for the best version of the template you should use the parameterset: \"lin,1,2,3,4,5,6,7,8\""
   ]
  },
  {
   "cell_type": "code",
   "execution_count": 3,
   "id": "015c61c4-1760-4919-b2c1-9eabf9646ca3",
   "metadata": {},
   "outputs": [
    {
     "name": "stdout",
     "output_type": "stream",
     "text": [
      "['/home/data/converted_brains/mouse0.mnc', '/home/data/converted_brains/mouse1.mnc']\n",
      "The last modified subfolder is: /volgenmodel-nipype/workflow_temp_workflowMultiProc8\n",
      "Last modification time: 2025-05-14 13:36:23\n",
      "found zspace at 0 0\n",
      "found yspace at 1 1\n",
      "found xspace at 2 2\n",
      "0 2 0 1 146 1.000000\n",
      "1 1 1 1 276 1.000000\n",
      "2 0 2 1 206 1.000000\n",
      "TPL_mouse0_mouse1.nii\n",
      "TPL_mouse0_mouse1.nii\n",
      "0\n"
     ]
    },
    {
     "data": {
      "text/plain": [
       "0"
      ]
     },
     "execution_count": 3,
     "metadata": {},
     "output_type": "execute_result"
    }
   ],
   "source": [
    "delete_files(tmp_folder, 'mnc') ## delete unused .nii files in processed folder\n",
    "delete_files(tmp_folder, 'nii') ## delete unused .nii files in processed folder\n",
    "process_files(process_folder, output_folder, tmp_folder, parameters, result_folder)"
   ]
  },
  {
   "cell_type": "markdown",
   "id": "bae1bd6c-c9a6-43ed-8604-c4ce22d475bf",
   "metadata": {},
   "source": [
    "## Step X: Remove the workflow temp or output files to restart the calculation from scratch or to save space\n",
    "- will not delete the files copied to the volume outside the docker container!"
   ]
  },
  {
   "cell_type": "code",
   "execution_count": 91,
   "id": "2f46e67a-a9d4-4de5-935a-7ae3f82a8370",
   "metadata": {},
   "outputs": [
    {
     "data": {
      "text/plain": [
       "0"
      ]
     },
     "execution_count": 91,
     "metadata": {},
     "output_type": "execute_result"
    }
   ],
   "source": [
    "delete_workflow_temp(search_folder=\"/volgenmodel-nipype/\")\n",
    "os.system('rm /volgenmodel-nipype/workflow_output_workflowMultiProc50/ -rf')"
   ]
  },
  {
   "cell_type": "markdown",
   "id": "9f85ba79-604c-4184-a8c7-6bfdce793e64",
   "metadata": {},
   "source": [
    "## Additional Test, check out the format of the example files from: \"volgenmodel-fast-example\" \n",
    "- from: https://github.com/carlohamalainen/volgenmodel-fast-example\n",
    "- to load them with Fiji you have to convert em to Nifti"
   ]
  },
  {
   "cell_type": "code",
   "execution_count": null,
   "id": "7d25b4d1-27d0-4b5d-a19f-e8b497003619",
   "metadata": {
    "scrolled": true
   },
   "outputs": [],
   "source": [
    "##artifical test with test_examples (so they have to convert to nii to do the whole pipeline)\n",
    "\"\"\"\n",
    "testlist = os.listdir(input_folder)\n",
    "for t in testlist:\n",
    "    it = join(input_folder,t)\n",
    "    cmd = \" \".join([\"mnc2nii\",it, join(input_folder,t.replace(\"mnc\",\"nii\"))])\n",
    "    os.system(cmd)\n",
    "\"\"\""
   ]
  }
 ],
 "metadata": {
  "kernelspec": {
   "display_name": "Python 3 (ipykernel)",
   "language": "python",
   "name": "python3"
  },
  "language_info": {
   "codemirror_mode": {
    "name": "ipython",
    "version": 3
   },
   "file_extension": ".py",
   "mimetype": "text/x-python",
   "name": "python",
   "nbconvert_exporter": "python",
   "pygments_lexer": "ipython3",
   "version": "3.8.20"
  }
 },
 "nbformat": 4,
 "nbformat_minor": 5
}
