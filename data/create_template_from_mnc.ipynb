{
 "cells": [
  {
   "cell_type": "markdown",
   "id": "3ac766e6-7ae2-43dc-8f60-91d1e44a901f",
   "metadata": {},
   "source": [
    "## Step1: initialization, import necessary packages\n",
    "- files are mounted from local file system \"volgenmodel-docker/data\" into the docker container path \"/home/data\" (see \"docker-compose.yml\")"
   ]
  },
  {
   "cell_type": "code",
   "execution_count": null,
   "id": "e30041f6-b665-4725-8a9b-4bfd8610b5c7",
   "metadata": {},
   "outputs": [],
   "source": [
    "%pip install tqdm\n",
    "import os\n",
    "import sys\n",
    "sys.path.append('/home/data')\n",
    "from os.path import join\n",
    "from functions import *\n",
    "import tifffile\n",
    "import SimpleITK as sitk\n",
    "import numpy as np\n",
    "import tifffile\n",
    "import nibabel as nib\n",
    "import numpy as np\n",
    "from tqdm.auto import tqdm\n",
    "\n",
    "os.getcwd()\n",
    "os.chdir(\"/volgenmodel-nipype\")\n",
    "print(f\"I'm working in folder: {os.getcwd()}\")\n",
    "\n",
    "## folder initialization\n",
    "input_folder   = '/home/data/masked_brains'\n",
    "output_folder  = '/home/data/output_templates'\n",
    "process_folder = '/home/data/converted_brains'\n",
    "tmp_folder     = '/home/data/tmp'\n",
    "result_folder  = '/volgenmodel-nipype'\n",
    "\n",
    "## parameter init\n",
    "parameters={'fit_stages': 'lin,1,2', ## for testing 'lin,1,2' for best quality use larger numbers like 'lin,1,1,2,2,3,3,4,5,6' from https://doi.org/10.1016/j.ymeth.2015.01.005\n",
    "            'ncpus': 40, ## how many cores should the template creation use? be careful, don't use to many or the system could crash\n",
    "            'img_thresholds': len(fileList(input_folder))*[1], ## the threshold value should be the smallest grey value that is located at one of the edges of the image. \n",
    "            'padding_size': 25, ## Padding-Size should be ~10% of the largest dimension (88x150x249 -> paddingSize = 25)\n",
    "            'min_number_of_brains_in_template': 8\n",
    "                  }"
   ]
  },
  {
   "cell_type": "markdown",
   "id": "4d6f861f-c905-4789-986c-3c39346d772c",
   "metadata": {},
   "source": [
    "## Step2: N4 (identical to N3) bias field correction \n",
    "- https://simpleitk.readthedocs.io/en/master/link_N4BiasFieldCorrection_docs.html\n"
   ]
  },
  {
   "cell_type": "code",
   "execution_count": null,
   "id": "84a981fb-d785-4beb-86c0-afb88bd74cf6",
   "metadata": {
    "scrolled": true
   },
   "outputs": [],
   "source": [
    "files = fileList(input_folder)\n",
    "files = [join(input_folder,file) for file in files \n",
    "         if file.find(\"_N4\") == -1]\n",
    "out_path = input_folder\n",
    "\n",
    "for _, mri_file in tqdm(enumerate(files)):\n",
    "    outputImagePath = join(input_folder, mri_file.split(\"/\")[-1].split(\".\")[0] + '_N4.nii')\n",
    "    print(outputImagePath)\n",
    "    create_N4_img(mri_file, outputImagePath)"
   ]
  },
  {
   "cell_type": "markdown",
   "id": "160263cd-227f-4ecb-ad8b-7a9c8512dfd6",
   "metadata": {},
   "source": [
    "## Step 3: cropping based on defined threshold or auto-cropping (if available)\n",
    "- to find a proper threshold load the image into imageJ and find the lowest grey-value on the border of the tissue (the croping will be done in a cubic shape from the outside)\n",
    "- you can try to let the function find the threshold by themself by setting: \"thresholds='auto'\" (TODO: test the auto threshold function!)"
   ]
  },
  {
   "cell_type": "code",
   "execution_count": null,
   "id": "a0c11351-2618-43f2-b827-1a81628d32a4",
   "metadata": {
    "scrolled": true
   },
   "outputs": [],
   "source": [
    "files = fileList(input_folder)\n",
    "files = [join(input_folder,file) for file in files \n",
    "         if file.endswith(\"nii\") and file.find(\"_N4.\") != -1]\n",
    "out_path = input_folder\n",
    "\n",
    "for i, mri_file in tqdm(enumerate(files)):    \n",
    "    outputImagePath = join(input_folder, mri_file.split(\"/\")[-1].split(\".\")[0] + '_auto-crop.nii')\n",
    "    \"\"\"\n",
    "    create_cropped_imgs(input_folder, \n",
    "                       input_folder, \n",
    "                       thresholds='auto', \n",
    "                       save_as_dtype=np.int16)\n",
    "    \"\"\"\n",
    "    create_cropped_imgs(mri_file, \n",
    "                       outputImagePath, \n",
    "                       threshold=parameters['img_thresholds'][i], \n",
    "                       save_as_dtype=np.int32)"
   ]
  },
  {
   "cell_type": "markdown",
   "id": "7733f646-1943-449d-be66-407c0ffed702",
   "metadata": {},
   "source": [
    "## Step 4: Zero-Padding\n",
    "- Padding-Size should be ~10% of the largest dimension (88x150x249 -> paddingSize = 25)"
   ]
  },
  {
   "cell_type": "code",
   "execution_count": null,
   "id": "7716179c-33c2-4fff-961a-b0d18f5244bb",
   "metadata": {
    "scrolled": true
   },
   "outputs": [],
   "source": [
    "files = fileList(input_folder)\n",
    "files = [join(input_folder,file) for file in files \n",
    "         if file.endswith(\"nii\") and file.find(\"_N4_auto-crop.\") != -1]\n",
    "out_path = input_folder\n",
    "\n",
    "for _, mri_file in tqdm(enumerate(files)):\n",
    "    outputImagePath = join(input_folder, mri_file.split(\"/\")[-1].split(\".\")[0] + \"_padded.nii\")\n",
    "    create_padding_imgs(mri_file, outputImagePath, init_paddingSize='10%')\n"
   ]
  },
  {
   "cell_type": "markdown",
   "id": "2a6d15ef-232c-419b-95ed-86ffe11712a8",
   "metadata": {},
   "source": [
    "## Step 5: Nifti to Minc convert\n",
    "- it also delete possible unused mnc files in the processed folder to prevent issues"
   ]
  },
  {
   "cell_type": "code",
   "execution_count": null,
   "id": "424882d4-ff1a-48fd-8069-a37e79762850",
   "metadata": {},
   "outputs": [],
   "source": [
    "os.system(\"nii2mnc -help\")"
   ]
  },
  {
   "cell_type": "code",
   "execution_count": null,
   "id": "794789aa-ddea-48bb-b505-cec971b9754f",
   "metadata": {
    "scrolled": true
   },
   "outputs": [],
   "source": [
    "nii_to_minc(input_folder, process_folder)\n",
    "delete_files(process_folder, 'mnc') ## delete unused .nii files in processed folder"
   ]
  },
  {
   "cell_type": "markdown",
   "id": "9a43143e-8106-47f5-a408-b2c2fd9982f5",
   "metadata": {},
   "source": [
    "## Step 6: Create the Templates\n",
    "- set up the create_parameters if necessary\n",
    "- use only a small version of the fit_stages (lin,1,2) to prevent exessive calculation time\n",
    "- for the best version of the template you should use the parameterset: \"lin,1,2,3,4,5,6,7,8\""
   ]
  },
  {
   "cell_type": "code",
   "execution_count": null,
   "id": "3fdc4c79-4c5e-40b7-bec8-8b64c69b07b7",
   "metadata": {},
   "outputs": [],
   "source": [
    "parameters"
   ]
  },
  {
   "cell_type": "code",
   "execution_count": null,
   "id": "015c61c4-1760-4919-b2c1-9eabf9646ca3",
   "metadata": {
    "scrolled": true
   },
   "outputs": [],
   "source": [
    "delete_files(tmp_folder, 'mnc') ## delete unused .nii files in processed folder\n",
    "delete_files(tmp_folder, 'nii') ## delete unused .nii files in processed folder\n",
    "process_files(process_folder, output_folder, tmp_folder, parameters, result_folder)"
   ]
  },
  {
   "cell_type": "markdown",
   "id": "bae1bd6c-c9a6-43ed-8604-c4ce22d475bf",
   "metadata": {},
   "source": [
    "## Step X: Remove the workflow temp or output files to restart the calculation from scratch or to save space\n",
    "- will not delete the files copied to the volume outside the docker container!"
   ]
  },
  {
   "cell_type": "code",
   "execution_count": null,
   "id": "2f46e67a-a9d4-4de5-935a-7ae3f82a8370",
   "metadata": {},
   "outputs": [],
   "source": [
    "#delete_workflow_temp(search_folder=\"/volgenmodel-nipype/\")\n",
    "#os.system('rm /volgenmodel-nipype/workflow_output_workflowMultiProc50/ -rf')"
   ]
  },
  {
   "cell_type": "markdown",
   "id": "9f85ba79-604c-4184-a8c7-6bfdce793e64",
   "metadata": {},
   "source": [
    "## Additional Test, check out the format of the example files from: \"volgenmodel-fast-example\" \n",
    "- from: https://github.com/carlohamalainen/volgenmodel-fast-example\n",
    "- to load them with Fiji you have to convert em to Nifti"
   ]
  },
  {
   "cell_type": "code",
   "execution_count": null,
   "id": "7d25b4d1-27d0-4b5d-a19f-e8b497003619",
   "metadata": {
    "scrolled": true
   },
   "outputs": [],
   "source": [
    "##artifical test with test_examples (so they have to convert to nii to do the whole pipeline)\n",
    "\"\"\"\n",
    "testlist = os.listdir(input_folder)\n",
    "for t in testlist:\n",
    "    it = join(input_folder,t)\n",
    "    cmd = \" \".join([\"mnc2nii\",it, join(input_folder,t.replace(\"mnc\",\"nii\"))])\n",
    "    os.system(cmd)\n",
    "\"\"\""
   ]
  },
  {
   "cell_type": "code",
   "execution_count": null,
   "id": "0d866cf5-ae17-4330-90eb-54ef3f5af1ee",
   "metadata": {},
   "outputs": [],
   "source": [
    "import os\n",
    "import nibabel as nib\n",
    "import numpy as np\n",
    "from itertools import combinations\n",
    "\n",
    "def find_nii_files(folder_path):\n",
    "    \"\"\"\n",
    "    Searches for all NIfTI (.nii or .nii.gz) files in a given folder.\n",
    "\n",
    "    Args:\n",
    "        folder_path (str): The path to the folder to search.\n",
    "\n",
    "    Returns:\n",
    "        list: A list of full paths to the NIfTI files found.\n",
    "    \"\"\"\n",
    "    nii_files = []\n",
    "    for root, _, files in os.walk(folder_path):\n",
    "        for file in files:\n",
    "            if file.endswith((\".nii\", \".nii.gz\")):\n",
    "                nii_files.append(os.path.join(root, file))\n",
    "    return nii_files\n",
    "\n",
    "def process_nii_combinations(nii_file_list, output_folder):\n",
    "    \"\"\"\n",
    "    Creates combinations of 2 NIfTI files from a list, calculates their\n",
    "    absolute difference, and saves the result as a new NIfTI file.\n",
    "\n",
    "    Args:\n",
    "        nii_file_list (list): A list of full paths to NIfTI files.\n",
    "        output_folder (str): The path to the folder where the difference\n",
    "                             NIfTI files will be saved.\n",
    "    \"\"\"\n",
    "    if not os.path.exists(output_folder):\n",
    "        os.makedirs(output_folder)\n",
    "\n",
    "    processed_combinations = set()\n",
    "\n",
    "    for file1_path, file2_path in combinations(nii_file_list, 2):\n",
    "        # Create a unique identifier for the combination to avoid duplicates\n",
    "        # based on order (e.g., file1_file2 is same as file2_file1)\n",
    "        file1_name = os.path.basename(file1_path).replace(\".nii\", \"\").replace(\".gz\", \"\")\n",
    "        file2_name = os.path.basename(file2_path).replace(\".nii\", \"\").replace(\".gz\", \"\")\n",
    "\n",
    "        # Sort names to create a consistent key for checking processed combinations\n",
    "        sorted_names = tuple(sorted((file1_name, file2_name)))\n",
    "\n",
    "        if sorted_names in processed_combinations:\n",
    "            continue  # Skip if this combination (regardless of order) has already been processed\n",
    "\n",
    "        print(f\"Processing combination: {file1_name} and {file2_name}\")\n",
    "\n",
    "        try:\n",
    "            # Load the NIfTI files\n",
    "            img1 = nib.load(file1_path)\n",
    "            img2 = nib.load(file2_path)\n",
    "\n",
    "            data1 = img1.get_fdata()\n",
    "            data2 = img2.get_fdata()\n",
    "\n",
    "            # Ensure both images have the same dimensions\n",
    "            if data1.shape != data2.shape:\n",
    "                print(f\"Warning: Dimensions mismatch for {file1_name} ({data1.shape}) and {file2_name} ({data2.shape}). Skipping this combination.\")\n",
    "                continue\n",
    "\n",
    "            # Calculate the absolute difference\n",
    "            diff_data = np.abs(data1 - data2)\n",
    "\n",
    "            # Create a new NIfTI image with the difference data\n",
    "            # Use the affine from one of the original images\n",
    "            diff_img = nib.Nifti1Image(diff_data, img1.affine, img1.header)\n",
    "\n",
    "            # Define the output filename\n",
    "            output_filename = f\"{file1_name}_{file2_name}_diff.nii.gz\" # Using .nii.gz for compression\n",
    "            output_filepath = os.path.join(output_folder, output_filename)\n",
    "\n",
    "            # Save the new NIfTI file\n",
    "            nib.save(diff_img, output_filepath)\n",
    "            print(f\"Saved difference to: {output_filepath}\")\n",
    "\n",
    "            processed_combinations.add(sorted_names)\n",
    "\n",
    "        except Exception as e:\n",
    "            print(f\"Error processing combination {file1_name} and {file2_name}: {e}\")\n",
    "\n",
    "def compare_nii_files(file_path1, file_path2):\n",
    "    \"\"\"\n",
    "    Compares the voxel data content of two NIfTI files.\n",
    "\n",
    "    Args:\n",
    "        file_path1 (str): The full path to the first NIfTI file.\n",
    "        file_path2 (str): The full path to the second NIfTI file.\n",
    "\n",
    "    Returns:\n",
    "        int: 1 if the voxel data content of the two files is identical,\n",
    "             0 otherwise (including if files cannot be loaded or dimensions differ).\n",
    "    \"\"\"\n",
    "    try:\n",
    "        # Load the NIfTI files\n",
    "        img1 = nib.load(file_path1)\n",
    "        img2 = nib.load(file_path2)\n",
    "\n",
    "        data1 = img1.get_fdata()\n",
    "        data2 = img2.get_fdata()\n",
    "\n",
    "        # Compare the data arrays\n",
    "        if np.array_equal(data1, data2):\n",
    "            return 1  # Identical\n",
    "        else:\n",
    "            return 0  # Not identical\n",
    "\n",
    "    except Exception as e:\n",
    "        print(f\"Error comparing files {file_path1} and {file_path2}: {e}\")\n",
    "        return 0 # Return 0 if there's an error (e.g., file not found, invalid NIfTI)\n",
    "\n",
    "# Example Usage:\n",
    "if __name__ == \"__main__\":\n",
    "    # Create a dummy folder structure and dummy .nii files for demonstration\n",
    "    output_folder  = '/home/data/output_templates'\n",
    "    print(f\"Searching for NIfTI files in: {output_folder}\")\n",
    "    found_nii_files = find_nii_files(output_folder)\n",
    "    print(f\"Found {len(found_nii_files)} NIfTI files:\")\n",
    "    for f in found_nii_files:\n",
    "        print(f\"- {f}\")\n",
    "\n",
    "    if found_nii_files:\n",
    "        print(f\"\\nProcessing combinations and saving results to: {output_folder}\")\n",
    "        #process_nii_combinations(found_nii_files, dummy_output_folder)\n",
    "        print(\"\\nProcessing complete.\")\n",
    "\n",
    "        print(\"\\n--- Comparing NIfTI files ---\")\n",
    "        # Example comparisons using the new function\n",
    "        print(f\"Comparing {os.path.basename(file_A_path)} and {os.path.basename(file_B_path)}: {compare_nii_files(file_A_path, file_B_path)}\") # Should be 0 (non-identical)\n",
    "        print(f\"Comparing {os.path.basename(file_A_path)} and {os.path.basename(file_C_path)}: {compare_nii_files(file_A_path, file_C_path)}\") # Should be 1 (identical)\n",
    "        print(f\"Comparing {os.path.basename(file_B_path)} and {os.path.basename(file_C_path)}: {compare_nii_files(file_B_path, file_C_path)}\") # Should be 0 (non-identical)\n",
    "        print(f\"Comparing {os.path.basename(file_A_path)} and {os.path.basename(file_D_path)}: {compare_nii_files(file_A_path, file_D_path)}\") # Should be 0 (different dimensions/error)\n",
    "\n",
    "    else:\n",
    "        print(\"No NIfTI files found to process.\")\n",
    "\n",
    "    # Clean up dummy files (optional)\n",
    "    # import shutil\n",
    "    # if os.path.exists(dummy_input_folder):\n",
    "    #     shutil.rmtree(dummy_input_folder)\n",
    "    # if os.path.exists(dummy_output_folder):\n",
    "    #     shutil.rmtree(dummy_output_folder)"
   ]
  },
  {
   "cell_type": "code",
   "execution_count": null,
   "id": "2e39752c-7ce4-483b-925c-d53c29e11169",
   "metadata": {},
   "outputs": [],
   "source": [
    "for file_A_path, file_B_path in combinations(found_nii_files, 2):\n",
    "    print(f\"Comparing {os.path.basename(file_A_path)} and {os.path.basename(file_B_path)}: {compare_nii_files(file_A_path, file_B_path)}\") # Should be 0 (non-identical)"
   ]
  }
 ],
 "metadata": {
  "kernelspec": {
   "display_name": "Python 3 (ipykernel)",
   "language": "python",
   "name": "python3"
  },
  "language_info": {
   "codemirror_mode": {
    "name": "ipython",
    "version": 3
   },
   "file_extension": ".py",
   "mimetype": "text/x-python",
   "name": "python",
   "nbconvert_exporter": "python",
   "pygments_lexer": "ipython3",
   "version": "3.8.20"
  }
 },
 "nbformat": 4,
 "nbformat_minor": 5
}
